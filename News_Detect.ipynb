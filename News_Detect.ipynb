{
  "cells": [
    {
      "cell_type": "code",
      "execution_count": 1,
      "metadata": {},
      "outputs": [],
      "source": [
        "import pandas as pd\n",
        "from sklearn.model_selection import train_test_split\n",
        "from sklearn.feature_extraction.text import TfidfVectorizer\n",
        "from sklearn.linear_model import LogisticRegression\n",
        "from sklearn.metrics import accuracy_score\n",
        "import tensorflow as tf\n",
        "from tensorflow.keras.preprocessing.text import Tokenizer\n",
        "from tensorflow.keras.preprocessing.sequence import pad_sequences\n",
        "import pickle\n"
      ]
    },
    {
      "cell_type": "code",
      "execution_count": 2,
      "metadata": {},
      "outputs": [],
      "source": [
        "true_data = pd.read_csv('True.csv')\n",
        "false_data = pd.read_csv('Fake.csv')\n",
        "\n",
        "# Assuming your datasets have a 'text' column representing the news text and a 'label' column indicating true or false\n",
        "true_data['label'] = 1\n",
        "false_data['label'] = 0\n",
        "\n",
        "# Concatenate the datasets\n",
        "data = pd.concat([true_data, false_data], ignore_index=True)\n",
        "\n",
        "# Split data into training and testing sets\n",
        "X_train, X_test, y_train, y_test = train_test_split(data['text'], data['label'], test_size=0.2, random_state=42)\n"
      ]
    },
    {
      "cell_type": "code",
      "execution_count": 3,
      "metadata": {},
      "outputs": [],
      "source": [
        "# Initialize a TF-IDF Vectorizer\n",
        "tfidf_vectorizer = TfidfVectorizer(max_features=5000)  # You can adjust max_features based on your dataset size\n",
        "\n",
        "# Fit and transform on training data\n",
        "X_train_tfidf = tfidf_vectorizer.fit_transform(X_train)\n",
        "X_test_tfidf = tfidf_vectorizer.transform(X_test)\n"
      ]
    },
    {
      "cell_type": "code",
      "execution_count": 4,
      "metadata": {},
      "outputs": [
        {
          "name": "stdout",
          "output_type": "stream",
          "text": [
            "Logistic Regression Accuracy: 0.9888641425389755\n"
          ]
        }
      ],
      "source": [
        "# Initialize Logistic Regression model\n",
        "lr_classifier = LogisticRegression()\n",
        "\n",
        "# Train the model\n",
        "lr_classifier.fit(X_train_tfidf, y_train)\n",
        "\n",
        "# Predict on the test set\n",
        "y_pred_lr = lr_classifier.predict(X_test_tfidf)\n",
        "\n",
        "# Evaluate accuracy\n",
        "accuracy_lr = accuracy_score(y_test, y_pred_lr)\n",
        "print(\"Logistic Regression Accuracy:\", accuracy_lr)\n"
      ]
    },
    {
      "cell_type": "code",
      "execution_count": 5,
      "metadata": {},
      "outputs": [
        {
          "data": {
            "text/plain": [
              "['logistic_regression_model.pkl']"
            ]
          },
          "execution_count": 5,
          "metadata": {},
          "output_type": "execute_result"
        }
      ],
      "source": [
        "import joblib\n",
        "\n",
        "# Save the trained Logistic Regression model using joblib\n",
        "joblib.dump(lr_classifier, 'logistic_regression_model.pkl')\n"
      ]
    },
    {
      "cell_type": "code",
      "execution_count": 6,
      "metadata": {},
      "outputs": [],
      "source": [
        "# Tokenization for Neural Network\n",
        "tokenizer = Tokenizer(num_words=5000)\n",
        "tokenizer.fit_on_texts(data['text'])\n",
        "\n",
        "# Save tokenizer using pickle\n",
        "with open('tokenizer.pkl', 'wb') as handle:\n",
        "    pickle.dump(tokenizer, handle, protocol=pickle.HIGHEST_PROTOCOL)\n"
      ]
    },
    {
      "cell_type": "code",
      "execution_count": 7,
      "metadata": {},
      "outputs": [],
      "source": [
        "# Convert text data to sequences\n",
        "X_nn = tokenizer.texts_to_sequences(data['text'])\n",
        "\n",
        "# Pad sequences for consistent input shape\n",
        "X_nn = pad_sequences(X_nn, maxlen=200)  # Assuming a max length of 200 words\n",
        "\n",
        "# Split data for training and testing\n",
        "X_train_nn, X_test_nn, y_train_nn, y_test_nn = train_test_split(X_nn, data['label'], test_size=0.2, random_state=42)\n"
      ]
    },
    {
      "cell_type": "code",
      "execution_count": 8,
      "metadata": {},
      "outputs": [
        {
          "name": "stdout",
          "output_type": "stream",
          "text": [
            "Epoch 1/10\n"
          ]
        },
        {
          "name": "stderr",
          "output_type": "stream",
          "text": [
            "c:\\Users\\Wesley Gurira\\Documents\\Education 4.2\\Web Scrapping & Minning\\Assignments\\Group-Project\\GA-env\\Lib\\site-packages\\keras\\src\\layers\\core\\embedding.py:90: UserWarning: Argument `input_length` is deprecated. Just remove it.\n",
            "  warnings.warn(\n"
          ]
        },
        {
          "name": "stdout",
          "output_type": "stream",
          "text": [
            "\u001b[1m449/449\u001b[0m \u001b[32m━━━━━━━━━━━━━━━━━━━━\u001b[0m\u001b[37m\u001b[0m \u001b[1m12s\u001b[0m 23ms/step - accuracy: 0.8969 - loss: 0.2120 - val_accuracy: 0.9865 - val_loss: 0.0339\n",
            "Epoch 2/10\n",
            "\u001b[1m449/449\u001b[0m \u001b[32m━━━━━━━━━━━━━━━━━━━━\u001b[0m\u001b[37m\u001b[0m \u001b[1m10s\u001b[0m 21ms/step - accuracy: 0.9983 - loss: 0.0063 - val_accuracy: 0.9916 - val_loss: 0.0259\n",
            "Epoch 3/10\n",
            "\u001b[1m449/449\u001b[0m \u001b[32m━━━━━━━━━━━━━━━━━━━━\u001b[0m\u001b[37m\u001b[0m \u001b[1m10s\u001b[0m 22ms/step - accuracy: 0.9998 - loss: 0.0019 - val_accuracy: 0.9923 - val_loss: 0.0275\n",
            "Epoch 4/10\n",
            "\u001b[1m449/449\u001b[0m \u001b[32m━━━━━━━━━━━━━━━━━━━━\u001b[0m\u001b[37m\u001b[0m \u001b[1m9s\u001b[0m 21ms/step - accuracy: 0.9999 - loss: 3.2924e-04 - val_accuracy: 0.9840 - val_loss: 0.0489\n",
            "Epoch 5/10\n",
            "\u001b[1m449/449\u001b[0m \u001b[32m━━━━━━━━━━━━━━━━━━━━\u001b[0m\u001b[37m\u001b[0m \u001b[1m10s\u001b[0m 22ms/step - accuracy: 0.9998 - loss: 8.7802e-04 - val_accuracy: 0.9873 - val_loss: 0.0515\n",
            "Epoch 6/10\n",
            "\u001b[1m449/449\u001b[0m \u001b[32m━━━━━━━━━━━━━━━━━━━━\u001b[0m\u001b[37m\u001b[0m \u001b[1m10s\u001b[0m 21ms/step - accuracy: 1.0000 - loss: 9.1781e-04 - val_accuracy: 0.9921 - val_loss: 0.0349\n",
            "Epoch 7/10\n",
            "\u001b[1m449/449\u001b[0m \u001b[32m━━━━━━━━━━━━━━━━━━━━\u001b[0m\u001b[37m\u001b[0m \u001b[1m10s\u001b[0m 21ms/step - accuracy: 0.9999 - loss: 8.7185e-04 - val_accuracy: 0.9916 - val_loss: 0.0368\n",
            "Epoch 8/10\n",
            "\u001b[1m449/449\u001b[0m \u001b[32m━━━━━━━━━━━━━━━━━━━━\u001b[0m\u001b[37m\u001b[0m \u001b[1m10s\u001b[0m 21ms/step - accuracy: 1.0000 - loss: 1.6101e-04 - val_accuracy: 0.9915 - val_loss: 0.0398\n",
            "Epoch 9/10\n",
            "\u001b[1m449/449\u001b[0m \u001b[32m━━━━━━━━━━━━━━━━━━━━\u001b[0m\u001b[37m\u001b[0m \u001b[1m10s\u001b[0m 21ms/step - accuracy: 1.0000 - loss: 3.0059e-04 - val_accuracy: 0.9911 - val_loss: 0.0428\n",
            "Epoch 10/10\n",
            "\u001b[1m449/449\u001b[0m \u001b[32m━━━━━━━━━━━━━━━━━━━━\u001b[0m\u001b[37m\u001b[0m \u001b[1m10s\u001b[0m 22ms/step - accuracy: 0.9999 - loss: 8.4198e-04 - val_accuracy: 0.9910 - val_loss: 0.0435\n"
          ]
        },
        {
          "data": {
            "text/plain": [
              "<keras.src.callbacks.history.History at 0x2743edc3ef0>"
            ]
          },
          "execution_count": 8,
          "metadata": {},
          "output_type": "execute_result"
        }
      ],
      "source": [
        "# Build a simple Sequential model\n",
        "nn_model = tf.keras.Sequential([\n",
        "    tf.keras.layers.Embedding(input_dim=5000, output_dim=64, input_length=200),\n",
        "    tf.keras.layers.Flatten(),\n",
        "    tf.keras.layers.Dense(64, activation='relu'),\n",
        "    tf.keras.layers.Dense(1, activation='sigmoid')\n",
        "])\n",
        "\n",
        "# Compile the model\n",
        "nn_model.compile(optimizer='adam', loss='binary_crossentropy', metrics=['accuracy'])\n",
        "\n",
        "# Train the model\n",
        "nn_model.fit(X_train_nn, y_train_nn, epochs=10, batch_size=64, validation_split=0.2)\n"
      ]
    },
    {
      "cell_type": "code",
      "execution_count": 9,
      "metadata": {},
      "outputs": [
        {
          "name": "stderr",
          "output_type": "stream",
          "text": [
            "WARNING:absl:You are saving your model as an HDF5 file via `model.save()` or `keras.saving.save_model(model)`. This file format is considered legacy. We recommend using instead the native Keras format, e.g. `model.save('my_model.keras')` or `keras.saving.save_model(model, 'my_model.keras')`. \n"
          ]
        }
      ],
      "source": [
        "# Save the trained neural network model\n",
        "nn_model.save('nn_model.h5')\n"
      ]
    },
    {
      "cell_type": "code",
      "execution_count": 14,
      "metadata": {},
      "outputs": [
        {
          "name": "stderr",
          "output_type": "stream",
          "text": [
            "WARNING:absl:Compiled the loaded model, but the compiled metrics have yet to be built. `model.compile_metrics` will be empty until you train or evaluate the model.\n"
          ]
        },
        {
          "name": "stdout",
          "output_type": "stream",
          "text": [
            "WARNING:tensorflow:5 out of the last 5 calls to <function TensorFlowTrainer.make_predict_function.<locals>.one_step_on_data_distributed at 0x0000027449C5C180> triggered tf.function retracing. Tracing is expensive and the excessive number of tracings could be due to (1) creating @tf.function repeatedly in a loop, (2) passing tensors with different shapes, (3) passing Python objects instead of tensors. For (1), please define your @tf.function outside of the loop. For (2), @tf.function has reduce_retracing=True option that can avoid unnecessary retracing. For (3), please refer to https://www.tensorflow.org/guide/function#controlling_retracing and https://www.tensorflow.org/api_docs/python/tf/function for  more details.\n"
          ]
        },
        {
          "name": "stderr",
          "output_type": "stream",
          "text": [
            "WARNING:tensorflow:5 out of the last 5 calls to <function TensorFlowTrainer.make_predict_function.<locals>.one_step_on_data_distributed at 0x0000027449C5C180> triggered tf.function retracing. Tracing is expensive and the excessive number of tracings could be due to (1) creating @tf.function repeatedly in a loop, (2) passing tensors with different shapes, (3) passing Python objects instead of tensors. For (1), please define your @tf.function outside of the loop. For (2), @tf.function has reduce_retracing=True option that can avoid unnecessary retracing. For (3), please refer to https://www.tensorflow.org/guide/function#controlling_retracing and https://www.tensorflow.org/api_docs/python/tf/function for  more details.\n"
          ]
        },
        {
          "name": "stdout",
          "output_type": "stream",
          "text": [
            "\u001b[1m1/1\u001b[0m \u001b[32m━━━━━━━━━━━━━━━━━━━━\u001b[0m\u001b[37m\u001b[0m \u001b[1m0s\u001b[0m 66ms/step\n",
            "\n",
            "Logistic Regression Predictions:\n",
            "Text: Donald Trump just couldn t wish all Americans a Happy New Year and leave it at that. => False\n",
            "Text: WASHINGTON (Reuters) - The head of a conservative Republican faction in the U.S. Congress => True\n",
            "\n",
            "Neural Network Predictions:\n",
            "Text: Donald Trump just couldn t wish all Americans a Happy New Year and leave it at that. => False\n",
            "Text: WASHINGTON (Reuters) - The head of a conservative Republican faction in the U.S. Congress => False\n"
          ]
        }
      ],
      "source": [
        "import joblib\n",
        "from tensorflow.keras.models import load_model\n",
        "from tensorflow.keras.preprocessing.sequence import pad_sequences\n",
        "import numpy as np\n",
        "import pickle\n",
        "\n",
        "# Load the trained Logistic Regression model\n",
        "lr_model = joblib.load('logistic_regression_model.pkl')\n",
        "\n",
        "# Load the trained Neural Network model\n",
        "nn_model = load_model('nn_model.h5')\n",
        "\n",
        "# Load the tokenizer\n",
        "with open('tokenizer.pkl', 'rb') as handle:\n",
        "    tokenizer = pickle.load(handle)\n",
        "\n",
        "# Sample news texts for testing\n",
        "texts = [\n",
        "    \"Donald Trump just couldn t wish all Americans a Happy New Year and leave it at that.\",\n",
        "    \"WASHINGTON (Reuters) - The head of a conservative Republican faction in the U.S. Congress\"\n",
        "]\n",
        "\n",
        "# Tokenize and preprocess the test texts for the Neural Network model\n",
        "sequences = tokenizer.texts_to_sequences(texts)\n",
        "padded_sequences = pad_sequences(sequences, maxlen=200)\n",
        "\n",
        "# Use the Logistic Regression model for prediction\n",
        "lr_predictions = lr_model.predict(tfidf_vectorizer.transform(texts))\n",
        "lr_predicted_labels = (lr_predictions > 0.5).astype(int)\n",
        "\n",
        "# Use the Neural Network model for prediction\n",
        "nn_predictions = nn_model.predict(padded_sequences)\n",
        "nn_predicted_labels = (nn_predictions > 0.5).astype(int)\n",
        "\n",
        "# Display the predictions\n",
        "print(\"\\nLogistic Regression Predictions:\")\n",
        "for text, label in zip(texts, lr_predicted_labels):\n",
        "    print(f\"Text: {text} => {'True' if label == 1 else 'False'}\")\n",
        "\n",
        "print(\"\\nNeural Network Predictions:\")\n",
        "for text, label in zip(texts, nn_predicted_labels):\n",
        "    print(f\"Text: {text} => {'True' if label == 1 else 'False'}\")\n"
      ]
    }
  ],
  "metadata": {
    "colab": {
      "provenance": []
    },
    "kernelspec": {
      "display_name": "Python 3",
      "name": "python3"
    },
    "language_info": {
      "codemirror_mode": {
        "name": "ipython",
        "version": 3
      },
      "file_extension": ".py",
      "mimetype": "text/x-python",
      "name": "python",
      "nbconvert_exporter": "python",
      "pygments_lexer": "ipython3",
      "version": "3.12.3"
    }
  },
  "nbformat": 4,
  "nbformat_minor": 0
}
